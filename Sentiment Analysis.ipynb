{
 "cells": [
  {
   "cell_type": "code",
   "execution_count": 20,
   "id": "52e8a08a",
   "metadata": {},
   "outputs": [],
   "source": [
    "import matplotlib.pyplot as plt\n",
    "from collections import Counter\n",
    "from nltk.tokenize import word_tokenize\n",
    "from nltk.corpus import stopwords\n",
    "from nltk.sentiment.vader import SentimentIntensityAnalyzer\n",
    "from nltk.stem import WordNetLemmatizer\n",
    "#reading the text from reads.txt file\n",
    "text = open('reads.txt', encoding='utf-8').read()\n",
    "# print(text)"
   ]
  },
  {
   "cell_type": "code",
   "execution_count": 21,
   "id": "a27f39f5",
   "metadata": {},
   "outputs": [],
   "source": [
    "#to lowercase\n",
    "lower_case = text.lower()\n",
    "# print(lower_case)"
   ]
  },
  {
   "cell_type": "code",
   "execution_count": 22,
   "id": "516cee15",
   "metadata": {},
   "outputs": [],
   "source": [
    "#removing punctuations\n",
    "import string\n",
    "cleaned_text = lower_case.translate(str.maketrans('','',string.punctuation))\n",
    "# print(cleaned_text)"
   ]
  },
  {
   "cell_type": "code",
   "execution_count": 23,
   "id": "488923ef",
   "metadata": {},
   "outputs": [],
   "source": [
    "#spliting each word into a list\n",
    "tokenized_words =  word_tokenize(cleaned_text,\"english\")\n",
    "\n",
    "#removing all the words which do not add any meaning like I, there, etc\n",
    "# stop_words = [\"i\", \"me\", \"my\", \"myself\", \"we\", \"our\", \"ours\", \"ourselves\", \"you\", \"your\", \"yours\", \"yourself\",\n",
    "#               \"yourselves\", \"he\", \"him\", \"his\", \"himself\", \"she\", \"her\", \"hers\", \"herself\", \"it\", \"its\", \"itself\",\n",
    "#               \"they\", \"them\", \"their\", \"theirs\", \"themselves\", \"what\", \"which\", \"who\", \"whom\", \"this\", \"that\", \"these\",\n",
    "#               \"those\", \"am\", \"is\", \"are\", \"was\", \"were\", \"be\", \"been\", \"being\", \"have\", \"has\", \"had\", \"having\", \"do\",\n",
    "#               \"does\", \"did\", \"doing\", \"a\", \"an\", \"the\", \"and\", \"but\", \"if\", \"or\", \"because\", \"as\", \"until\", \"while\",\n",
    "#               \"of\", \"at\", \"by\", \"for\", \"with\", \"about\", \"against\", \"between\", \"into\", \"through\", \"during\", \"before\",\n",
    "#               \"after\", \"above\", \"below\", \"to\", \"from\", \"up\", \"down\", \"in\", \"out\", \"on\", \"off\", \"over\", \"under\", \"again\",\n",
    "#               \"further\", \"then\", \"once\", \"here\", \"there\", \"when\", \"where\", \"why\", \"how\", \"all\", \"any\", \"both\", \"each\",\n",
    "#               \"few\", \"more\", \"most\", \"other\", \"some\", \"such\", \"no\", \"nor\", \"not\", \"only\", \"own\", \"same\", \"so\", \"than\",\n",
    "#               \"too\", \"very\", \"s\", \"t\", \"can\", \"will\", \"just\", \"don\", \"should\", \"now\"]\n",
    "\n",
    "final_words = []\n",
    "for word in tokenized_words:\n",
    "    if word not in stopwords.words(\"english\"):\n",
    "        final_words.append(word)\n",
    "# print(final_words)"
   ]
  },
  {
   "cell_type": "markdown",
   "id": "b2d6a00d",
   "metadata": {},
   "source": [
    "##### NLP EMOTION ALGORITHM\n"
   ]
  },
  {
   "cell_type": "code",
   "execution_count": 24,
   "id": "b692a4f7",
   "metadata": {},
   "outputs": [],
   "source": [
    "emotion_list = []\n",
    "with open('emotions.txt','r') as file:\n",
    "    for line in file:\n",
    "        clear_line = line.replace('\\n','').replace(',','').replace(\"'\",'').strip()\n",
    "        word, emotion = clear_line.split(':')\n",
    "        \n",
    "        if word in final_words:\n",
    "            emotion_list.append(emotion)\n",
    "# print(emotion_list)"
   ]
  },
  {
   "cell_type": "code",
   "execution_count": 29,
   "id": "ad4ca468",
   "metadata": {},
   "outputs": [
    {
     "name": "stdout",
     "output_type": "stream",
     "text": [
      "Positive Sentiment\n"
     ]
    },
    {
     "data": {
      "image/png": "[encoded data removed]",
      "text/plain": [
       "<Figure size 640x480 with 1 Axes>"
      ]
     },
     "metadata": {},
     "output_type": "display_data"
    }
   ],
   "source": [
    "w = Counter(emotion_list)\n",
    "# print(w)\n",
    "\n",
    "def sentiment_analyse(sentiment_text):\n",
    "    score = SentimentIntensityAnalyzer().polarity_scores(sentiment_text)\n",
    "#     print(score)\n",
    "    neg, pos = score['neg'], score['pos']\n",
    "    if neg > pos:\n",
    "        print(\"Negative Sentiment\")\n",
    "    elif pos > neg:\n",
    "        print(\"Positive Sentiment\")\n",
    "    else:\n",
    "        print(\"Neutral Sentiment\")\n",
    "\n",
    "sentiment_analyse(cleaned_text)\n",
    "                  \n",
    "fig, axl = plt.subplots()\n",
    "axl.bar(w.keys(), w.values())\n",
    "fig.autofmt_xdate() #automatically update the x and y axis that all values adjust\n",
    "plt.savefig('graph.png')\n",
    "plt.show()\n"
   ]
  },
  {
   "cell_type": "code",
   "execution_count": null,
   "id": "a8973e1c",
   "metadata": {},
   "outputs": [],
   "source": []
  },
  {
   "cell_type": "code",
   "execution_count": null,
   "id": "ed87abe6",
   "metadata": {},
   "outputs": [],
   "source": []
  },
  {
   "cell_type": "code",
   "execution_count": null,
   "id": "79b4c388",
   "metadata": {},
   "outputs": [],
   "source": []
  }
 ],
 "metadata": {
  "kernelspec": {
   "display_name": "Python 3 (ipykernel)",
   "language": "python",
   "name": "python3"
  },
  "language_info": {
   "codemirror_mode": {
    "name": "ipython",
    "version": 3
   },
   "file_extension": ".py",
   "mimetype": "text/x-python",
   "name": "python",
   "nbconvert_exporter": "python",
   "pygments_lexer": "ipython3",
   "version": "3.11.4"
  }
 },
 "nbformat": 4,
 "nbformat_minor": 5
}
